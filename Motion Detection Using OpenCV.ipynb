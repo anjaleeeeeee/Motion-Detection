{
 "cells": [
  {
   "cell_type": "code",
   "execution_count": 1,
   "metadata": {},
   "outputs": [
    {
     "ename": "KeyboardInterrupt",
     "evalue": "",
     "output_type": "error",
     "traceback": [
      "\u001b[1;31m---------------------------------------------------------------------------\u001b[0m",
      "\u001b[1;31mKeyboardInterrupt\u001b[0m                         Traceback (most recent call last)",
      "\u001b[1;32m<ipython-input-1-32f815034040>\u001b[0m in \u001b[0;36m<module>\u001b[1;34m\u001b[0m\n\u001b[0;32m     10\u001b[0m \u001b[1;33m\u001b[0m\u001b[0m\n\u001b[0;32m     11\u001b[0m \u001b[1;32mwhile\u001b[0m \u001b[1;32mTrue\u001b[0m\u001b[1;33m:\u001b[0m\u001b[1;33m\u001b[0m\u001b[1;33m\u001b[0m\u001b[0m\n\u001b[1;32m---> 12\u001b[1;33m     \u001b[0mch\u001b[0m\u001b[1;33m,\u001b[0m\u001b[0mfr\u001b[0m\u001b[1;33m=\u001b[0m\u001b[0mvid\u001b[0m\u001b[1;33m.\u001b[0m\u001b[0mread\u001b[0m\u001b[1;33m(\u001b[0m\u001b[1;33m)\u001b[0m\u001b[1;33m\u001b[0m\u001b[1;33m\u001b[0m\u001b[0m\n\u001b[0m\u001b[0;32m     13\u001b[0m \u001b[1;33m\u001b[0m\u001b[0m\n\u001b[0;32m     14\u001b[0m     \u001b[0mmot\u001b[0m\u001b[1;33m=\u001b[0m\u001b[1;36m0\u001b[0m\u001b[1;33m\u001b[0m\u001b[1;33m\u001b[0m\u001b[0m\n",
      "\u001b[1;31mKeyboardInterrupt\u001b[0m: "
     ]
    }
   ],
   "source": [
    "import cv2,time,pandas\n",
    "from datetime import datetime\n",
    "\n",
    "static_back=None\n",
    "\n",
    "currMot=[\"\",\"\"]\n",
    "motList=[]\n",
    "\n",
    "vid=cv2.VideoCapture(0)\n",
    "\n",
    "while True:\n",
    "    ch,fr=vid.read()\n",
    "    \n",
    "    mot=0\n",
    "    \n",
    "    gray=cv2.cvtColor(fr,cv2.COLOR_BGR2GRAY)\n",
    "    gray=cv2.GaussianBlur(gray,(21,21),0)\n",
    "    \n",
    "    if static_back is None:\n",
    "        static_back=gray\n",
    "        continue\n",
    "        \n",
    "    dff_fr=cv2.absdiff(static_back,gray)\n",
    "    \n",
    "    t_fr=cv2.threshold(dff_fr,30,255,cv2.THRESH_BINARY)[1]\n",
    "    t_fr=cv2.dilate(t_fr,None,iterations=0)\n",
    "    \n",
    "    cnts,_=cv2.findContours(t_fr.copy(),cv2.RETR_EXTERNAL,cv2.CHAIN_APPROX_SIMPLE)\n",
    "    for co in cnts:\n",
    "        if cv2.contourArea(co)<10000:\n",
    "            mot=1\n",
    "            continue\n",
    "            \n",
    "    if currMot[0]==\"\" and mot==1:\n",
    "        currMot[0]=datetime.now().strftime(\"%m/%d/%Y, %H:%M:%S\")\n",
    "        \n",
    "    (x,y,w,h)=cv2.boundingRect(co)\n",
    "    cv2.rectangle(fr,(x,y),(x+w,y+h),(0,255,0),3)\n",
    "    \n",
    "    if mot==0 and currMot[0]!=\"\":\n",
    "        currMot[1]=datetime.now().strftime(\"%m/%d/%Y, %H:%M:%S\")\n",
    "        motList.append(currMot)\n",
    "        currMot=[\"\",\"\"]\n",
    "    cv2.imshow('Gray Scale',gray)\n",
    "    cv2.imshow('Difference Frame',dff_fr)\n",
    "    cv2.imshow('Threshold Frame',t_fr)\n",
    "    cv2.imshow('Color Frame',fr)\n",
    "    \n",
    "    k=cv2.waitKey(1)\n",
    "    if k==ord('q'):\n",
    "        if mot==1 and currMot[0]!=\"\":\n",
    "            currMot[1]=datetime.now().strftime(\"%m/%d/%Y, %H:%M:%S\")\n",
    "            motList.append(currMot)\n",
    "        break\n",
    "\n",
    "for i in motList[:30]:\n",
    "    print(i)\n",
    "\n",
    "vid.release()\n",
    "\n",
    "cv2.destroyAllWindows()"
   ]
  },
  {
   "cell_type": "code",
   "execution_count": null,
   "metadata": {},
   "outputs": [],
   "source": []
  }
 ],
 "metadata": {
  "kernelspec": {
   "display_name": "Python 3",
   "language": "python",
   "name": "python3"
  },
  "language_info": {
   "codemirror_mode": {
    "name": "ipython",
    "version": 3
   },
   "file_extension": ".py",
   "mimetype": "text/x-python",
   "name": "python",
   "nbconvert_exporter": "python",
   "pygments_lexer": "ipython3",
   "version": "3.8.5"
  }
 },
 "nbformat": 4,
 "nbformat_minor": 4
}
